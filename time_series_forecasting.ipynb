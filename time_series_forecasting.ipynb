{
 "cells": [
  {
   "cell_type": "markdown",
   "id": "timely-gateway",
   "metadata": {},
   "source": [
    "**Submitted By:**\n",
    "**Name:** Vivek Kumar Singh\n",
    "**Mobile:** 8770485752\n",
    "**Email:** vivekksingh53@gmail.com"
   ]
  },
  {
   "cell_type": "markdown",
   "id": "accepting-algorithm",
   "metadata": {},
   "source": [
    "<h1>Introduction</h1>"
   ]
  },
  {
   "cell_type": "markdown",
   "id": "packed-snowboard",
   "metadata": {},
   "source": [
    "**What is Time Series Forecasting?**"
   ]
  },
  {
   "cell_type": "markdown",
   "id": "difficult-replacement",
   "metadata": {},
   "source": [
    " Time series is a collection of data points collected at constant time intervals.Time series forecasting is the use of a model to predict future values based on previously observed values."
   ]
  },
  {
   "cell_type": "markdown",
   "id": "national-executive",
   "metadata": {},
   "source": [
    "**Univariate versus Multivariate Time Series**"
   ]
  },
  {
   "cell_type": "markdown",
   "id": "collected-compatibility",
   "metadata": {},
   "source": [
    "**Univariate Time Series:**\\\n",
    "A univariate time series, as the name suggests, is a series with a single time-dependent variable.\\\n",
    " \n",
    "**Multivariate Time Series:**\\\n",
    "A Multivariate time series has more than one time-dependent variable. Each variable depends not only on its past values but also has some dependency on other variables. This dependency is used for forecasting future values."
   ]
  },
  {
   "cell_type": "markdown",
   "id": "realistic-campus",
   "metadata": {},
   "source": [
    "<h1>Let’s get started!</h1>"
   ]
  },
  {
   "cell_type": "markdown",
   "id": "encouraging-tournament",
   "metadata": {},
   "source": [
    "**The Data**"
   ]
  },
  {
   "cell_type": "markdown",
   "id": "brief-boating",
   "metadata": {},
   "source": [
    "I am using General Electric Company (GE) data from 'https://finance.yahoo.com/quote/GE/history/' for performing the multivariate Time Series Forecasting.The dataset contains information from date: 1980-01-02 to 2021-01-01 and it is stored in 'csv' file."
   ]
  },
  {
   "cell_type": "markdown",
   "id": "sitting-subdivision",
   "metadata": {},
   "source": [
    "**Importing Libraries**"
   ]
  },
  {
   "cell_type": "code",
   "execution_count": 1,
   "id": "respected-copyright",
   "metadata": {},
   "outputs": [],
   "source": [
    "import numpy as np\n",
    "from keras.models import Sequential\n",
    "from keras.layers import LSTM\n",
    "from keras.layers import Dense, Dropout\n",
    "import pandas as pd\n",
    "from matplotlib import pyplot as plt\n",
    "from sklearn.preprocessing import StandardScaler\n",
    "import seaborn as sns\n",
    "\n",
    "%matplotlib inline\n",
    "import warnings\n",
    "warnings.filterwarnings(\"ignore\")\n",
    "\n",
    "import matplotlib as mpl\n",
    "import matplotlib.pyplot as plt\n",
    "\n",
    "# Definiing gloabl parameters for all matplotlib plots\n",
    "mpl.rcParams['figure.figsize'] = (8, 6)\n",
    "mpl.rcParams['axes.grid'] = False\n"
   ]
  },
  {
   "cell_type": "markdown",
   "id": "complicated-period",
   "metadata": {},
   "source": [
    "**Reading the Dataset**"
   ]
  },
  {
   "cell_type": "code",
   "execution_count": 2,
   "id": "weekly-situation",
   "metadata": {},
   "outputs": [
    {
     "data": {
      "text/html": [
       "<div>\n",
       "<style scoped>\n",
       "    .dataframe tbody tr th:only-of-type {\n",
       "        vertical-align: middle;\n",
       "    }\n",
       "\n",
       "    .dataframe tbody tr th {\n",
       "        vertical-align: top;\n",
       "    }\n",
       "\n",
       "    .dataframe thead th {\n",
       "        text-align: right;\n",
       "    }\n",
       "</style>\n",
       "<table border=\"1\" class=\"dataframe\">\n",
       "  <thead>\n",
       "    <tr style=\"text-align: right;\">\n",
       "      <th></th>\n",
       "      <th>Date</th>\n",
       "      <th>Open</th>\n",
       "      <th>High</th>\n",
       "      <th>Low</th>\n",
       "      <th>Close</th>\n",
       "      <th>Adj Close</th>\n",
       "      <th>Volume</th>\n",
       "    </tr>\n",
       "  </thead>\n",
       "  <tbody>\n",
       "    <tr>\n",
       "      <th>0</th>\n",
       "      <td>1980-01-02</td>\n",
       "      <td>1.014123</td>\n",
       "      <td>1.016627</td>\n",
       "      <td>0.976563</td>\n",
       "      <td>0.976563</td>\n",
       "      <td>0.285146</td>\n",
       "      <td>7433000</td>\n",
       "    </tr>\n",
       "    <tr>\n",
       "      <th>1</th>\n",
       "      <td>1980-01-03</td>\n",
       "      <td>0.976563</td>\n",
       "      <td>0.991587</td>\n",
       "      <td>0.959034</td>\n",
       "      <td>0.989083</td>\n",
       "      <td>0.288802</td>\n",
       "      <td>9185200</td>\n",
       "    </tr>\n",
       "    <tr>\n",
       "      <th>2</th>\n",
       "      <td>1980-01-04</td>\n",
       "      <td>0.999099</td>\n",
       "      <td>1.024139</td>\n",
       "      <td>0.999099</td>\n",
       "      <td>1.021635</td>\n",
       "      <td>0.298307</td>\n",
       "      <td>8556200</td>\n",
       "    </tr>\n",
       "    <tr>\n",
       "      <th>3</th>\n",
       "      <td>1980-01-07</td>\n",
       "      <td>1.021635</td>\n",
       "      <td>1.071715</td>\n",
       "      <td>1.014123</td>\n",
       "      <td>1.056691</td>\n",
       "      <td>0.308543</td>\n",
       "      <td>10518100</td>\n",
       "    </tr>\n",
       "    <tr>\n",
       "      <th>4</th>\n",
       "      <td>1980-01-08</td>\n",
       "      <td>1.059195</td>\n",
       "      <td>1.094251</td>\n",
       "      <td>1.059195</td>\n",
       "      <td>1.094251</td>\n",
       "      <td>0.319510</td>\n",
       "      <td>12315200</td>\n",
       "    </tr>\n",
       "  </tbody>\n",
       "</table>\n",
       "</div>"
      ],
      "text/plain": [
       "         Date      Open      High       Low     Close  Adj Close    Volume\n",
       "0  1980-01-02  1.014123  1.016627  0.976563  0.976563   0.285146   7433000\n",
       "1  1980-01-03  0.976563  0.991587  0.959034  0.989083   0.288802   9185200\n",
       "2  1980-01-04  0.999099  1.024139  0.999099  1.021635   0.298307   8556200\n",
       "3  1980-01-07  1.021635  1.071715  1.014123  1.056691   0.308543  10518100\n",
       "4  1980-01-08  1.059195  1.094251  1.059195  1.094251   0.319510  12315200"
      ]
     },
     "execution_count": 2,
     "metadata": {},
     "output_type": "execute_result"
    }
   ],
   "source": [
    "df = pd.read_csv('GE.csv')\n",
    "df.head()"
   ]
  },
  {
   "cell_type": "code",
   "execution_count": 3,
   "id": "outer-wonder",
   "metadata": {},
   "outputs": [
    {
     "name": "stdout",
     "output_type": "stream",
     "text": [
      "<class 'pandas.core.frame.DataFrame'>\n",
      "RangeIndex: 10350 entries, 0 to 10349\n",
      "Data columns (total 7 columns):\n",
      " #   Column     Non-Null Count  Dtype  \n",
      "---  ------     --------------  -----  \n",
      " 0   Date       10350 non-null  object \n",
      " 1   Open       10350 non-null  float64\n",
      " 2   High       10350 non-null  float64\n",
      " 3   Low        10350 non-null  float64\n",
      " 4   Close      10350 non-null  float64\n",
      " 5   Adj Close  10350 non-null  float64\n",
      " 6   Volume     10350 non-null  int64  \n",
      "dtypes: float64(5), int64(1), object(1)\n",
      "memory usage: 566.1+ KB\n"
     ]
    }
   ],
   "source": [
    "#Checking for any Null values and data types of each features\n",
    "\n",
    "df.info()"
   ]
  },
  {
   "cell_type": "code",
   "execution_count": 4,
   "id": "turned-desert",
   "metadata": {},
   "outputs": [
    {
     "name": "stdout",
     "output_type": "stream",
     "text": [
      "The shape of the dataset:  (10350, 7)\n"
     ]
    }
   ],
   "source": [
    "print('The shape of the dataset: ',df.shape)"
   ]
  },
  {
   "cell_type": "markdown",
   "id": "automotive-repeat",
   "metadata": {},
   "source": [
    "**Data Preprocessing**"
   ]
  },
  {
   "cell_type": "code",
   "execution_count": 5,
   "id": "supreme-method",
   "metadata": {},
   "outputs": [
    {
     "data": {
      "text/html": [
       "<div>\n",
       "<style scoped>\n",
       "    .dataframe tbody tr th:only-of-type {\n",
       "        vertical-align: middle;\n",
       "    }\n",
       "\n",
       "    .dataframe tbody tr th {\n",
       "        vertical-align: top;\n",
       "    }\n",
       "\n",
       "    .dataframe thead th {\n",
       "        text-align: right;\n",
       "    }\n",
       "</style>\n",
       "<table border=\"1\" class=\"dataframe\">\n",
       "  <thead>\n",
       "    <tr style=\"text-align: right;\">\n",
       "      <th></th>\n",
       "      <th>Open</th>\n",
       "      <th>High</th>\n",
       "      <th>Low</th>\n",
       "      <th>Close</th>\n",
       "      <th>Adj Close</th>\n",
       "      <th>Volume</th>\n",
       "    </tr>\n",
       "    <tr>\n",
       "      <th>Date</th>\n",
       "      <th></th>\n",
       "      <th></th>\n",
       "      <th></th>\n",
       "      <th></th>\n",
       "      <th></th>\n",
       "      <th></th>\n",
       "    </tr>\n",
       "  </thead>\n",
       "  <tbody>\n",
       "    <tr>\n",
       "      <th>1980-01-02</th>\n",
       "      <td>1.014123</td>\n",
       "      <td>1.016627</td>\n",
       "      <td>0.976563</td>\n",
       "      <td>0.976563</td>\n",
       "      <td>0.285146</td>\n",
       "      <td>7433000</td>\n",
       "    </tr>\n",
       "    <tr>\n",
       "      <th>1980-01-03</th>\n",
       "      <td>0.976563</td>\n",
       "      <td>0.991587</td>\n",
       "      <td>0.959034</td>\n",
       "      <td>0.989083</td>\n",
       "      <td>0.288802</td>\n",
       "      <td>9185200</td>\n",
       "    </tr>\n",
       "    <tr>\n",
       "      <th>1980-01-04</th>\n",
       "      <td>0.999099</td>\n",
       "      <td>1.024139</td>\n",
       "      <td>0.999099</td>\n",
       "      <td>1.021635</td>\n",
       "      <td>0.298307</td>\n",
       "      <td>8556200</td>\n",
       "    </tr>\n",
       "    <tr>\n",
       "      <th>1980-01-07</th>\n",
       "      <td>1.021635</td>\n",
       "      <td>1.071715</td>\n",
       "      <td>1.014123</td>\n",
       "      <td>1.056691</td>\n",
       "      <td>0.308543</td>\n",
       "      <td>10518100</td>\n",
       "    </tr>\n",
       "    <tr>\n",
       "      <th>1980-01-08</th>\n",
       "      <td>1.059195</td>\n",
       "      <td>1.094251</td>\n",
       "      <td>1.059195</td>\n",
       "      <td>1.094251</td>\n",
       "      <td>0.319510</td>\n",
       "      <td>12315200</td>\n",
       "    </tr>\n",
       "  </tbody>\n",
       "</table>\n",
       "</div>"
      ],
      "text/plain": [
       "                Open      High       Low     Close  Adj Close    Volume\n",
       "Date                                                                   \n",
       "1980-01-02  1.014123  1.016627  0.976563  0.976563   0.285146   7433000\n",
       "1980-01-03  0.976563  0.991587  0.959034  0.989083   0.288802   9185200\n",
       "1980-01-04  0.999099  1.024139  0.999099  1.021635   0.298307   8556200\n",
       "1980-01-07  1.021635  1.071715  1.014123  1.056691   0.308543  10518100\n",
       "1980-01-08  1.059195  1.094251  1.059195  1.094251   0.319510  12315200"
      ]
     },
     "execution_count": 5,
     "metadata": {},
     "output_type": "execute_result"
    }
   ],
   "source": [
    "# Taking features which are required for forecasting\n",
    "\n",
    "features_considered = ['Open', 'High', 'Low', 'Close' , 'Adj Close', 'Volume']\n",
    "\n",
    "features = df[features_considered]\n",
    "features.index = df['Date'] # setting the column 'Date' as index for the dataframe\n",
    "features.head()"
   ]
  },
  {
   "cell_type": "code",
   "execution_count": 10,
   "id": "cheap-music",
   "metadata": {},
   "outputs": [
    {
     "data": {
      "image/png": "[encoded data removed]",
      "text/plain": [
       "<Figure size 576x432 with 1 Axes>"
      ]
     },
     "metadata": {
      "needs_background": "light"
     },
     "output_type": "display_data"
    }
   ],
   "source": [
    "#Visualizing target variable:'Open' Time Series Data\n",
    "\n",
    "features['Open'].plot()\n",
    "plt.title('Time Series Data:Open')\n",
    "plt.xlabel('Date')\n",
    "plt.ylabel('Open')\n",
    "plt.show()"
   ]
  },
  {
   "cell_type": "code",
   "execution_count": 9,
   "id": "forbidden-brisbane",
   "metadata": {},
   "outputs": [],
   "source": [
    "# Standardizing the features so that the optimizer will converge at faster rate and to reduce the training time.\n",
    "#LSTMs are sensitive to the scale of the input data, specifically when the sigmoid (default) or tanh activation functions are used. \n",
    "#It can be a good practice to rescale the data which is achieved by StandardScaler from sklearn library.\n",
    "\n",
    "scaler = StandardScaler()\n",
    "scaler = scaler.fit(features)\n",
    "df_for_training_scaled = scaler.transform(features)"
   ]
  },
  {
   "cell_type": "code",
   "execution_count": 11,
   "id": "extensive-building",
   "metadata": {},
   "outputs": [
    {
     "name": "stdout",
     "output_type": "stream",
     "text": [
      "trainX shape == (10336, 14, 6).\n",
      "trainY shape == (10336, 1).\n"
     ]
    }
   ],
   "source": [
    "# Preparing the data for time series forecasting and making it compatible for LSTM\n",
    "\n",
    "trainX = []\n",
    "trainY = []\n",
    "\n",
    "n_future = 1   # Number of days we want to predict into the future\n",
    "n_past = 14     # Number of past days we want to use to predict the future\n",
    "\n",
    "for i in range(n_past, len(df_for_training_scaled) - n_future +1):\n",
    "    trainX.append(df_for_training_scaled[i - n_past:i, 0:features.shape[1]])\n",
    "    trainY.append(df_for_training_scaled[i + n_future - 1:i + n_future, 0])\n",
    "\n",
    "trainX, trainY = np.array(trainX), np.array(trainY)\n",
    "\n",
    "print('trainX shape == {}.'.format(trainX.shape))\n",
    "print('trainY shape == {}.'.format(trainY.shape))"
   ]
  },
  {
   "cell_type": "markdown",
   "id": "unlimited-special",
   "metadata": {},
   "source": [
    "**Long Short-Term Memory Network**"
   ]
  },
  {
   "cell_type": "markdown",
   "id": "wanted-correlation",
   "metadata": {},
   "source": [
    "The Long Short-Term Memory network, or LSTM network, is a recurrent neural network that is trained using Backpropagation through time and overcomes the vanishing gradient problem.\n",
    "\n",
    "LSTM networks have memory blocks that are connected through layers.A block has components that make it smarter than a classical neuron and a memory for recent sequences. A block contains gates that manage the block’s state and output.\n",
    "\n",
    "There are three types of gates within a unit:\n",
    "\n",
    "Forget Gate: conditionally decides what information to throw away from the block.\\\n",
    "Input Gate: conditionally decides which values from the input to update the memory state.\\\n",
    "Output Gate: conditionally decides what to output based on input and the memory of the block."
   ]
  },
  {
   "cell_type": "code",
   "execution_count": 12,
   "id": "cloudy-alexandria",
   "metadata": {},
   "outputs": [
    {
     "name": "stdout",
     "output_type": "stream",
     "text": [
      "Model: \"sequential\"\n",
      "_________________________________________________________________\n",
      "Layer (type)                 Output Shape              Param #   \n",
      "=================================================================\n",
      "lstm (LSTM)                  (None, 14, 64)            18176     \n",
      "_________________________________________________________________\n",
      "lstm_1 (LSTM)                (None, 32)                12416     \n",
      "_________________________________________________________________\n",
      "dropout (Dropout)            (None, 32)                0         \n",
      "_________________________________________________________________\n",
      "dense (Dense)                (None, 1)                 33        \n",
      "=================================================================\n",
      "Total params: 30,625\n",
      "Trainable params: 30,625\n",
      "Non-trainable params: 0\n",
      "_________________________________________________________________\n"
     ]
    }
   ],
   "source": [
    "# LSTM architecture\n",
    "\n",
    "model = Sequential()\n",
    "model.add(LSTM(64, activation='relu', input_shape=(trainX.shape[1], trainX.shape[2]), return_sequences=True))\n",
    "model.add(LSTM(32, activation='relu', return_sequences=False))\n",
    "model.add(Dropout(0.2))\n",
    "model.add(Dense(trainY.shape[1]))\n",
    "\n",
    "model.compile(optimizer='adam', loss='mse')\n",
    "model.summary()"
   ]
  },
  {
   "cell_type": "code",
   "execution_count": 13,
   "id": "personalized-encyclopedia",
   "metadata": {},
   "outputs": [
    {
     "name": "stdout",
     "output_type": "stream",
     "text": [
      "Epoch 1/15\n",
      "582/582 [==============================] - 5s 5ms/step - loss: 0.1212 - val_loss: 0.0112\n",
      "Epoch 2/15\n",
      "582/582 [==============================] - 3s 5ms/step - loss: 0.0289 - val_loss: 0.0163\n",
      "Epoch 3/15\n",
      "582/582 [==============================] - 3s 5ms/step - loss: 0.0278 - val_loss: 0.0096\n",
      "Epoch 4/15\n",
      "582/582 [==============================] - 3s 5ms/step - loss: 0.0258 - val_loss: 0.0038\n",
      "Epoch 5/15\n",
      "582/582 [==============================] - 3s 5ms/step - loss: 0.0249 - val_loss: 0.0058\n",
      "Epoch 6/15\n",
      "582/582 [==============================] - 3s 5ms/step - loss: 0.0233 - val_loss: 0.0053\n",
      "Epoch 7/15\n",
      "582/582 [==============================] - 3s 5ms/step - loss: 0.0251 - val_loss: 0.0034\n",
      "Epoch 8/15\n",
      "582/582 [==============================] - 3s 5ms/step - loss: 0.0239 - val_loss: 0.0063\n",
      "Epoch 9/15\n",
      "582/582 [==============================] - 3s 5ms/step - loss: 0.0242 - val_loss: 0.0031\n",
      "Epoch 10/15\n",
      "582/582 [==============================] - 3s 5ms/step - loss: 0.0242 - val_loss: 0.0037\n",
      "Epoch 11/15\n",
      "582/582 [==============================] - 3s 5ms/step - loss: 0.0251 - val_loss: 0.0037\n",
      "Epoch 12/15\n",
      "582/582 [==============================] - 3s 5ms/step - loss: 0.0247 - val_loss: 0.0020\n",
      "Epoch 13/15\n",
      "582/582 [==============================] - 3s 5ms/step - loss: 0.0241 - val_loss: 0.0016\n",
      "Epoch 14/15\n",
      "582/582 [==============================] - 3s 5ms/step - loss: 0.0240 - val_loss: 0.0026\n",
      "Epoch 15/15\n",
      "582/582 [==============================] - 3s 5ms/step - loss: 0.0236 - val_loss: 0.0030\n"
     ]
    }
   ],
   "source": [
    "# fitting the model\n",
    "\n",
    "history = model.fit(trainX, trainY, epochs=15, batch_size=16, validation_split=0.1, verbose=1)"
   ]
  },
  {
   "cell_type": "code",
   "execution_count": 14,
   "id": "functioning-optics",
   "metadata": {},
   "outputs": [
    {
     "data": {
      "text/plain": [
       "<AxesSubplot:xlabel='Date', ylabel='Open'>"
      ]
     },
     "execution_count": 14,
     "metadata": {},
     "output_type": "execute_result"
    },
    {
     "data": {
      "image/png": "[encoded data removed]",
      "text/plain": [
       "<Figure size 576x432 with 1 Axes>"
      ]
     },
     "metadata": {
      "needs_background": "light"
     },
     "output_type": "display_data"
    }
   ],
   "source": [
    "#Forecasting...\n",
    "#Starting with the last day in training date and predict future...\n",
    "\n",
    "n_future=90  #Redefining n_future to extend prediction dates beyond original n_future dates...\n",
    "train_dates = pd.to_datetime(df['Date'])\n",
    "forecast_period_dates = pd.date_range(list(train_dates)[-1], periods=n_future, freq='1d').tolist()\n",
    "\n",
    "forecast = model.predict(trainX[-n_future:]) #forecast \n",
    "\n",
    "#Perform inverse transformation to rescale back to original range\n",
    "#Since we used 5 variables for transform, the inverse expects same dimensions\n",
    "#Therefore, let us copy our values 5 times and discard them after inverse transform\n",
    "\n",
    "forecast_copies = np.repeat(forecast, features.shape[1], axis=-1)\n",
    "y_pred_future = scaler.inverse_transform(forecast_copies)[:,0]\n",
    "\n",
    "\n",
    "# Convert timestamp to date\n",
    "forecast_dates = []\n",
    "for time_i in forecast_period_dates:\n",
    "    forecast_dates.append(time_i.date())\n",
    "    \n",
    "df_forecast = pd.DataFrame({'Date':np.array(forecast_dates), 'Open':y_pred_future})\n",
    "df_forecast['Date']=pd.to_datetime(df_forecast['Date'])\n",
    "\n",
    "\n",
    "original = df[['Date', 'Open']]\n",
    "original['Date']=pd.to_datetime(original['Date'])\n",
    "original = original.loc[original['Date'] >= '2020-5-1']\n",
    "\n",
    "sns.lineplot(original['Date'], original['Open'])\n",
    "sns.lineplot(df_forecast['Date'], df_forecast['Open'])"
   ]
  },
  {
   "cell_type": "markdown",
   "id": "sophisticated-bathroom",
   "metadata": {},
   "source": [
    "**Confidence Interval**"
   ]
  },
  {
   "cell_type": "markdown",
   "id": "criminal-wagner",
   "metadata": {},
   "source": [
    "Confidence intervals are a way of quantifying the uncertainty of an estimate.A confidence interval is a bounds on the estimate of a population variable. It is an interval statistic used to quantify the uncertainty on an estimate.\n"
   ]
  },
  {
   "cell_type": "code",
   "execution_count": 15,
   "id": "powerful-jefferson",
   "metadata": {},
   "outputs": [],
   "source": [
    "conf_int = 0.90\n",
    "\n",
    "lower_lim = np.quantile(y_pred_future, 0.5 - conf_int/2)\n",
    "upper_lim = np.quantile(y_pred_future, 0.5 + conf_int/2)"
   ]
  },
  {
   "cell_type": "code",
   "execution_count": 16,
   "id": "iraqi-annotation",
   "metadata": {},
   "outputs": [
    {
     "name": "stdout",
     "output_type": "stream",
     "text": [
      "6.971200466156006\n",
      "##################################################\n",
      "11.87794919013977\n"
     ]
    }
   ],
   "source": [
    "print(lower_lim)\n",
    "print('#'*50)\n",
    "print(upper_lim)"
   ]
  },
  {
   "cell_type": "code",
   "execution_count": null,
   "id": "color-willow",
   "metadata": {},
   "outputs": [],
   "source": []
  }
 ],
 "metadata": {
  "kernelspec": {
   "display_name": "Python 3",
   "language": "python",
   "name": "python3"
  },
  "language_info": {
   "codemirror_mode": {
    "name": "ipython",
    "version": 3
   },
   "file_extension": ".py",
   "mimetype": "text/x-python",
   "name": "python",
   "nbconvert_exporter": "python",
   "pygments_lexer": "ipython3",
   "version": "3.8.5"
  }
 },
 "nbformat": 4,
 "nbformat_minor": 5
}
